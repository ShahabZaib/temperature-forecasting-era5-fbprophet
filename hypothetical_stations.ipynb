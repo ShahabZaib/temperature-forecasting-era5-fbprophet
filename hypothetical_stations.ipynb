{
 "cells": [
  {
   "cell_type": "markdown",
   "id": "92a68ef8",
   "metadata": {},
   "source": [
    "## 📍 Generate Hypothetical Weather Stations\n",
    "\n",
    "This notebook creates 242 randomly distributed station points within a given national or regional boundary (e.g., Pakistan).\n",
    "\n",
    "📌 **Steps:**\n",
    "1. Load your own shapefile (`.shp`) using GeoPandas\n",
    "2. Generate random station points using uniform sampling inside the polygon\n",
    "3. Output can be saved as a `.shp` or `.csv` file for further ERA5 data extraction\n",
    "\n",
    "🛠 Tip: Use this with any country's shapefile by replacing the input file path."
   ]
  },
  {
   "cell_type": "code",
   "execution_count": null,
   "id": "431e6f35",
   "metadata": {},
   "outputs": [],
   "source": [
    "import geopandas as gpd\n",
    "import numpy as np\n",
    "from shapely.geometry import Point\n",
    "\n",
    "# Step 1: Load the Pakistan shapefile\n",
    "pakistan = gpd.read_file(\"folder name/shape file name.shp\")  # Replace with your actual path\n",
    "\n",
    "# Step 2: Function to generate random points within a polygon\n",
    "def generate_random_points_within(poly, num_points):\n",
    "    points = []\n",
    "    minx, miny, maxx, maxy = poly.bounds\n",
    "    while len(points) < num_points:\n",
    "        pnt = Point(np.random.uniform(minx, maxx), np.random.uniform(miny, maxy))\n",
    "        if poly.contains(pnt):\n",
    "            points.append(pnt)\n",
    "    return points\n",
    "\n",
    "# Step 3: Generate 242 points within Pakistan polygon\n",
    "pak_polygon = pakistan.geometry.values[0]  # First (and only) geometry\n",
    "random_points = generate_random_points_within(pak_polygon, 242)\n",
    "\n",
    "# Step 4: Create a GeoDataFrame\n",
    "gdf = gpd.GeoDataFrame({\n",
    "    \"Station\": [f\"Station_{i+1}\" for i in range(242)],\n",
    "    \"geometry\": random_points\n",
    "}, crs=\"EPSG:4326\")\n",
    "\n",
    "# Optional: Save to file\n",
    "# gdf.to_file(\"pakistan_random_stations.shp\")\n",
    "\n",
    "# Print a sample\n",
    "print(gdf.head())\n"
   ]
  },
  {
   "cell_type": "code",
   "execution_count": null,
   "id": "c4853a59",
   "metadata": {},
   "outputs": [],
   "source": [
    "# If the plot is correct then the hypothetical stations are correct\n",
    "gdf.plot()"
   ]
  },
  {
   "cell_type": "code",
   "execution_count": null,
   "id": "41d9e34f",
   "metadata": {},
   "outputs": [],
   "source": [
    "# Save the file \n",
    "gdf[\"Longitude\"] = gdf.geometry.x\n",
    "gdf[\"Latitude\"] = gdf.geometry.y\n",
    "gdf.drop(columns=\"geometry\").to_csv(\"stations.csv\", index=False)"
   ]
  }
 ],
 "metadata": {
  "kernelspec": {
   "display_name": "Data_science",
   "language": "python",
   "name": "python3"
  },
  "language_info": {
   "codemirror_mode": {
    "name": "ipython",
    "version": 3
   },
   "file_extension": ".py",
   "mimetype": "text/x-python",
   "name": "python",
   "nbconvert_exporter": "python",
   "pygments_lexer": "ipython3",
   "version": "3.9.18"
  }
 },
 "nbformat": 4,
 "nbformat_minor": 5
}
