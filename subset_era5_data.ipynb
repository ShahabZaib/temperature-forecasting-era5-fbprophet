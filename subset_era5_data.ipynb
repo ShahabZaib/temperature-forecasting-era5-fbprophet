{
 "cells": [
  {
   "cell_type": "markdown",
   "id": "f2e18680",
   "metadata": {},
   "source": [
    "---\n",
    "✅ **Note:** This notebook handles one year at a time. Run it for each folder/year to generate structured hourly CSVs per station."
   ]
  },
  {
   "cell_type": "code",
   "execution_count": null,
   "id": "7dc0f25d-4ba4-4b43-9507-bd8e4520235e",
   "metadata": {},
   "outputs": [],
   "source": [
    "import xarray as xr\n",
    "import pandas as pd"
   ]
  },
  {
   "cell_type": "markdown",
   "id": "54166c34",
   "metadata": {
    "slideshow": {
     "slide_type": "notes"
    }
   },
   "source": [
    "### 📂 Prepare Yearly Folders for ERA5 Data\n",
    "\n",
    "As of now, you should have downloaded the ERA5 hourly data **separately for each year** from CDS.\n",
    "\n",
    "✅ **What to do next:**\n",
    "1. Create a folder for each year (e.g., `2015`, `2016`, ..., `2024`)\n",
    "2. Paste the corresponding `.nc` files (e.g., temperature, dewpoint) into each folder\n",
    "\n",
    "🔁 **Usage Note:**\n",
    "To run the notebook for a specific year:\n",
    "- Simply **change the folder name** in the file path (e.g., `\"2015\"` → `\"2016\"`)\n",
    "- All other code remains unchanged"
   ]
  },
  {
   "cell_type": "code",
   "execution_count": null,
   "id": "07556a31",
   "metadata": {},
   "outputs": [],
   "source": [
    "# Load ERRA5 nc files\n",
    "data_instant = xr.open_dataset('Your folder name/dataset name-instant.nc')\n",
    "data_acc = xr.open_dataset('Your folder name/dataset name-accum.nc')\n",
    "\n",
    "# Example\n",
    "#data_instant = xr.open_dataset('2015/data_stream-oper_stepType-instant.nc')\n",
    "#data_acc = xr.open_dataset('2015/data_stream-oper_stepType-accum.nc')\n",
    "\n",
    "# Load the hypothetical stations data\n",
    "h_stations = pd.read_csv('location/dataset name.csv')"
   ]
  },
  {
   "cell_type": "code",
   "execution_count": null,
   "id": "8ec390f1",
   "metadata": {},
   "outputs": [],
   "source": [
    "data_instant"
   ]
  },
  {
   "cell_type": "code",
   "execution_count": null,
   "id": "ecd5a9ab",
   "metadata": {},
   "outputs": [],
   "source": [
    "data_acc"
   ]
  },
  {
   "cell_type": "code",
   "execution_count": null,
   "id": "f68396d5",
   "metadata": {},
   "outputs": [],
   "source": [
    "nowshera_ref_point"
   ]
  },
  {
   "cell_type": "code",
   "execution_count": null,
   "id": "02f4fc9f",
   "metadata": {},
   "outputs": [],
   "source": [
    "# Here we are saving the data for each station in a different file in the same folder\n",
    "# Make sure to change the path and folder name accordingly\n",
    "for index, row in h_stations.iterrows():\n",
    "    data_instant.sel(latitude=row['POINT_Y'], longitude=row['POINT_X'], method=\"nearest\").to_dataframe().to_csv(f'path/data name_{index}.csv')\n",
    "    data_acc.sel(latitude=row['POINT_Y'], longitude=row['POINT_X'], method=\"nearest\").to_dataframe().to_csv(f'path/dataset name_{index}.csv')"
   ]
  }
 ],
 "metadata": {
  "kernelspec": {
   "display_name": "Data_science",
   "language": "python",
   "name": "python3"
  },
  "language_info": {
   "codemirror_mode": {
    "name": "ipython",
    "version": 3
   },
   "file_extension": ".py",
   "mimetype": "text/x-python",
   "name": "python",
   "nbconvert_exporter": "python",
   "pygments_lexer": "ipython3",
   "version": "3.9.18"
  }
 },
 "nbformat": 4,
 "nbformat_minor": 5
}
