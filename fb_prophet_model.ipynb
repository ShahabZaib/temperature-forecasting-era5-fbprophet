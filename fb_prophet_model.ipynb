{
 "cells": [
  {
   "cell_type": "markdown",
   "id": "5bcee6a6",
   "metadata": {},
   "source": [
    "## 📥 Load and Prepare Data "
   ]
  },
  {
   "cell_type": "markdown",
   "id": "82108a62",
   "metadata": {},
   "source": [
    "- This Notebook: Trains a **separate sliding-window forecasting model for each station** using **Facebook Prophet**\n",
    "- This ensures that localized seasonality, trends, and anomalies are captured independently for each point.\n",
    "- The notebook example shows training for one station — you can loop through all 242 to scale the forecast.\n",
    "- Forecasts hourly temperature for **Jan–Feb 2025** and validates against actual ERA5 data."
   ]
  },
  {
   "cell_type": "code",
   "execution_count": null,
   "id": "b0f8b2ca",
   "metadata": {},
   "outputs": [],
   "source": [
    "import warnings\n",
    "warnings.filterwarnings(\"ignore\")\n",
    "import os\n",
    "import pandas as pd \n",
    "import numpy as np\n",
    "import seaborn as sns\n",
    "import matplotlib.pyplot as plt\n",
    "from prophet import Prophet\n",
    "from sklearn.metrics import mean_absolute_error\n",
    "from sklearn.metrics import r2_score"
   ]
  },
  {
   "cell_type": "code",
   "execution_count": null,
   "id": "53dccdd1",
   "metadata": {},
   "outputs": [],
   "source": [
    "# Change the path and file name\n",
    "col_name = \"Temperature\"\n",
    "# If you want to train for other points change the point\n",
    "point = 118\n",
    "df = pd.read_csv(f\"path/file name_{point}.csv\", index_col='Date', \n",
    "                  parse_dates=True,\n",
    "                  engine='python',\n",
    "                  usecols=['Date', col_name])\n",
    "df = df.asfreq('h')\n",
    "df.head()"
   ]
  },
  {
   "cell_type": "code",
   "execution_count": null,
   "id": "3ef00966",
   "metadata": {},
   "outputs": [],
   "source": [
    "# Change Kelvin to Celcius\n",
    "def kelvintodegc(kelvin):\n",
    "    return kelvin - 273.15"
   ]
  },
  {
   "cell_type": "code",
   "execution_count": null,
   "id": "bf1c8e49",
   "metadata": {},
   "outputs": [],
   "source": [
    "temp = df[[col_name]].copy()\n",
    "temp['Temperature'] = temp['Temperature'].apply(kelvintodegc)\n",
    "temp"
   ]
  },
  {
   "cell_type": "code",
   "execution_count": null,
   "id": "30f5315f",
   "metadata": {},
   "outputs": [],
   "source": [
    "# Besause temperature is not normally distributed\n",
    "# We will use quantile transformer to transform the data\n",
    "from sklearn.preprocessing import QuantileTransformer\n",
    "import numpy as np\n",
    "\n",
    "# Example data: replace with your actual data array\n",
    "X = np.array(temp[col_name]).reshape(-1, 1)\n",
    "\n",
    "# Transform the data to follow a normal distribution\n",
    "qt = QuantileTransformer(output_distribution='normal', random_state=0)\n",
    "temp[col_name] = qt.fit_transform(X)"
   ]
  },
  {
   "cell_type": "code",
   "execution_count": null,
   "id": "0c2aa1b2",
   "metadata": {},
   "outputs": [],
   "source": [
    "import numpy as np\n",
    "import matplotlib.pyplot as plt\n",
    "from scipy.stats import norm\n",
    "\n",
    "plt.figure(figsize=(10, 5))\n",
    "\n",
    "# Plot histogram of z-scores\n",
    "plt.hist(temp[col_name], bins=100, alpha=0.5, label=col_name)\n",
    "\n",
    "# Calculate parameters for the normal distribution\n",
    "mu, sigma = temp[col_name].mean(), temp[col_name].std()\n",
    "\n",
    "# Generate points along the x-axis range\n",
    "xmin, xmax = plt.xlim()\n",
    "x = np.linspace(xmin, xmax, 1000)\n",
    "\n",
    "# Calculate normal distribution scaled to match histogram\n",
    "pdf = norm.pdf(x, mu, sigma)\n",
    "scale_factor = len(temp[col_name]) * (xmax - xmin) / 100  # Number of points * bin width\n",
    "plt.plot(x, pdf * scale_factor, 'r-', lw=2, label='Normal Distribution')\n",
    "\n",
    "plt.legend(loc='best')\n",
    "plt.show()"
   ]
  },
  {
   "cell_type": "code",
   "execution_count": null,
   "id": "91f7a0e4",
   "metadata": {},
   "outputs": [],
   "source": [
    "# Lets create features for time series\n",
    "def create_features(df):\n",
    "    \"\"\"\n",
    "    Create time series features based on time series index.\n",
    "    \"\"\"\n",
    "    df = df.copy()\n",
    "    df['hour'] = df.index.hour\n",
    "    df['dayofweek'] = df.index.dayofweek\n",
    "    df['quarter'] = df.index.quarter\n",
    "    df['month'] = df.index.month\n",
    "    df['year'] = df.index.year\n",
    "    df['dayofyear'] = df.index.dayofyear\n",
    "    df['dayofmonth'] = df.index.day\n",
    "    return df"
   ]
  },
  {
   "cell_type": "code",
   "execution_count": null,
   "id": "3f16ff94",
   "metadata": {},
   "outputs": [],
   "source": [
    "# Here we will create lags for 720 hours and 8640 hours\n",
    "def add_lags(df):\n",
    "    target_map = df[col_name].to_dict()\n",
    "    df['lag1'] = (df.index - pd.Timedelta('720 hours')).map(target_map)\n",
    "    df['lag2'] = (df.index - pd.Timedelta('8640 hours')).map(target_map)\n",
    "    #df['lag3'] = (df.index - pd.Timedelta('168 hours')).map(target_map)\n",
    "    return df"
   ]
  },
  {
   "cell_type": "code",
   "execution_count": null,
   "id": "149ee048",
   "metadata": {},
   "outputs": [],
   "source": [
    "# Here we will create lags for 720 hours and 8640 hours for sliding window\n",
    "def lag_1hr(df):\n",
    "    df['lag1'] = df[col_name].shift(720)\n",
    "    df = df.dropna()\n",
    "    return df\n",
    "def lag_7hr(df):\n",
    "    df['lag2'] = df[col_name].shift(8640)\n",
    "    df = df.dropna()\n",
    "    return df"
   ]
  },
  {
   "cell_type": "code",
   "execution_count": null,
   "id": "e02df54e",
   "metadata": {},
   "outputs": [],
   "source": [
    "temp = add_lags(temp)\n",
    "temp = create_features(temp)\n",
    "temp = temp.dropna()\n",
    "temp.isna().sum()"
   ]
  },
  {
   "cell_type": "code",
   "execution_count": null,
   "id": "5bfdf1c3",
   "metadata": {},
   "outputs": [],
   "source": [
    "temp[col_name].max()"
   ]
  },
  {
   "cell_type": "code",
   "execution_count": null,
   "id": "28f5268c",
   "metadata": {},
   "outputs": [],
   "source": [
    "\n",
    "# For sliding window we will create a future dataframe\n",
    "# Create future dataframe\n",
    "future_dates = pd.date_range(start='2025-01-01, 00:00:00', end='2025-12-31 00:00:00', freq='H')\n",
    "future = pd.DataFrame(future_dates, columns=['ds'])\n",
    "future['lag1']= np.nan  # Initialize lag1 with NaN values\n",
    "future['lag2']= np.nan  # Initialize lag1 with NaN values\n",
    "#future['lag3']= np.nan  # Initialize lag1 with NaN values\n",
    "future[col_name]= np.nan  # Initialize lag1 with NaN values\n",
    "future"
   ]
  },
  {
   "cell_type": "code",
   "execution_count": null,
   "id": "e4a3cd80",
   "metadata": {},
   "outputs": [],
   "source": [
    "lastHour = temp[[col_name]].iloc[-1440:]\n",
    "last7Hours = temp[[col_name]].iloc[-17280:]\n",
    "#last21Hours = temp[[col_name]].iloc[-336:]\n",
    "\n",
    "\n",
    "lastHour = lag_1hr(lastHour)\n",
    "lastHour = lastHour.reset_index()\n",
    "future['lag1'] = future[\"lag1\"].fillna(lastHour[\"lag1\"])\n",
    "\n",
    "last7Hours = lag_7hr(last7Hours)\n",
    "last7Hours = last7Hours.reset_index()\n",
    "future['lag2'] = future[\"lag2\"].fillna(last7Hours[\"lag2\"])\n",
    "#last21Hours = lag_21hr(last21Hours)\n",
    "#last21Hours = last21Hours.reset_index()\n",
    "#future['lag3'] = future[\"lag3\"].fillna(last21Hours[\"lag3\"])\n",
    "\n",
    "future.head(20)"
   ]
  },
  {
   "cell_type": "code",
   "execution_count": null,
   "id": "78babd69",
   "metadata": {},
   "outputs": [],
   "source": [
    "future = future.set_index('ds')\n",
    "future = create_features(future)"
   ]
  },
  {
   "cell_type": "code",
   "execution_count": null,
   "id": "350cb223",
   "metadata": {},
   "outputs": [],
   "source": [
    "future = future.reset_index()\n",
    "future"
   ]
  },
  {
   "cell_type": "code",
   "execution_count": null,
   "id": "5a4b972e",
   "metadata": {},
   "outputs": [],
   "source": [
    "temp = temp.reset_index()\n",
    "#temp = temp.drop(columns=['index']) # Run if you have index\n",
    "temp = temp.rename(columns={'Date':'ds', col_name:'y'})\n",
    "temp.head()"
   ]
  },
  {
   "cell_type": "code",
   "execution_count": null,
   "id": "ea44f327",
   "metadata": {},
   "outputs": [],
   "source": [
    "temp.tail()"
   ]
  },
  {
   "cell_type": "markdown",
   "id": "ca1d26a4",
   "metadata": {},
   "source": [
    "## 📈 Train Prophet Model "
   ]
  },
  {
   "cell_type": "code",
   "execution_count": null,
   "id": "35f19879",
   "metadata": {},
   "outputs": [],
   "source": [
    "model_2 = Prophet(\n",
    "        yearly_seasonality='auto',\n",
    "        weekly_seasonality=True,\n",
    "        daily_seasonality=True,\n",
    "        changepoint_prior_scale=0.0005,\n",
    "        seasonality_prior_scale=10.0, \n",
    "        stan_backend=\"CMDSTANPY\"\n",
    "        )\n",
    "model_2.add_regressor('lag1')\n",
    "model_2.add_regressor('lag2')\n",
    "\n",
    "model_2.add_regressor('hour')\n",
    "model_2.add_regressor('month')\n",
    "model_2.add_regressor('year')\n",
    "model_2.add_regressor('quarter')\n",
    "model_2.add_regressor('dayofweek')\n",
    "model_2.add_regressor('dayofmonth')\n",
    "model_2.add_regressor(\"dayofyear\")\n",
    "model_2.fit(temp)"
   ]
  },
  {
   "cell_type": "code",
   "execution_count": null,
   "id": "2196c00c",
   "metadata": {},
   "outputs": [],
   "source": [
    "future"
   ]
  },
  {
   "cell_type": "markdown",
   "id": "f1b23e57",
   "metadata": {},
   "source": [
    "## 🔁 Sliding Window Setup  "
   ]
  },
  {
   "cell_type": "code",
   "execution_count": null,
   "id": "2373ff1d",
   "metadata": {},
   "outputs": [],
   "source": [
    "# Sliding window\n",
    "len_future = len(future)\n",
    "iter = [i for i in range(len_future)]\n",
    "for i in iter:\n",
    "    \n",
    "    if i>0 and i % 720 == 0:\n",
    "        temp7 = future.iloc[i-720:i]\n",
    "        for j in range(1,721):\n",
    "            future['lag2'].iloc[i:i+j] = future['lag2'].iloc[i:i+j].fillna(temp7[col_name].iloc[j-1])\n",
    "\n",
    "    #if i>0 and i % 8640 == 0:\n",
    "        #temp21 = future.iloc[i-8640:i]\n",
    "        #for p in range(0,8641):\n",
    "            #future['lag3'].iloc[i:i+p] = future['lag3'].iloc[i:i+p].fillna(temp21[col_name].iloc[p-1])\n",
    "\n",
    "    current_pred = future.iloc[i:i+1]\n",
    "    y_pred = model_2.predict(current_pred)\n",
    "    y_pred = y_pred.reset_index()\n",
    "    future[col_name].iloc[i] = y_pred['yhat']\n",
    "    temp1 = future.iloc[i]\n",
    "    future['lag1'].iloc[i+1:i+2] = future['lag1'].iloc[i+1:i+2].fillna(temp1[col_name]) \n",
    "    print(i)    "
   ]
  },
  {
   "cell_type": "code",
   "execution_count": null,
   "id": "4c196c3d",
   "metadata": {},
   "outputs": [],
   "source": [
    "future.isna().sum()"
   ]
  },
  {
   "cell_type": "code",
   "execution_count": null,
   "id": "22ccf6f1",
   "metadata": {},
   "outputs": [],
   "source": [
    "# Here we apply reverse transform to get the temperature back in Celsius\n",
    "X = np.array(future[col_name]).reshape(-1, 1)\n",
    "\n",
    "future[col_name] = qt.inverse_transform(X)\n",
    "\n",
    "future"
   ]
  },
  {
   "cell_type": "code",
   "execution_count": null,
   "id": "17113aea",
   "metadata": {},
   "outputs": [],
   "source": [
    "future = future.dropna()\n",
    "future"
   ]
  },
  {
   "cell_type": "markdown",
   "id": "d95e23ef",
   "metadata": {},
   "source": [
    "## 📊 Evaluate Predictions  "
   ]
  },
  {
   "cell_type": "code",
   "execution_count": null,
   "id": "b7183515",
   "metadata": {},
   "outputs": [],
   "source": [
    "# Change the path and file name\n",
    "# Make sure you have subsetted the data for 2025 as well\n",
    "\n",
    "dfor1 = pd.read_csv(\"2025/Pakistan_merged_data_points_2025_cleaned_118.csv\")\n",
    "#dfor = dfor1[[col_name]].apply(kelvintodegc).reset_index() # Run if you get index error\n",
    "dfor1[\"Date\"] = pd.to_datetime(dfor1[\"Date\"])\n",
    "dfor1.set_index('Date', inplace=True)\n",
    "dfor = dfor1[[col_name]]\n",
    "dfor[\"Temperature\"] = dfor[\"Temperature\"].apply(kelvintodegc)\n",
    "dfor\n"
   ]
  },
  {
   "cell_type": "code",
   "execution_count": null,
   "id": "81506b59",
   "metadata": {},
   "outputs": [],
   "source": [
    "future['ds'] = pd.to_datetime(future['ds'])\n",
    "future.set_index('ds', inplace=True)\n",
    "future"
   ]
  },
  {
   "cell_type": "code",
   "execution_count": null,
   "id": "c1d3bf23",
   "metadata": {},
   "outputs": [],
   "source": [
    "\n",
    "forcast_2025_model2_sub = future.iloc[:len(dfor)]\n",
    "forcast_2025_model2_sub = forcast_2025_model2_sub[[col_name]]\n",
    "forcast_2025_model2_sub.tail()"
   ]
  },
  {
   "cell_type": "code",
   "execution_count": null,
   "id": "bac2058f",
   "metadata": {},
   "outputs": [],
   "source": [
    "plt.figure(figsize=(10, 5))\n",
    "plt.plot(dfor[col_name], label='Existing Data')\n",
    "plt.plot(forcast_2025_model2_sub[col_name], label='Forecasted Data', alpha=0.5)\n",
    "plt.legend(loc='best')\n",
    "plt.show()"
   ]
  },
  {
   "cell_type": "code",
   "execution_count": null,
   "id": "37059a94",
   "metadata": {},
   "outputs": [],
   "source": [
    "plt.figure(figsize=(10, 5))\n",
    "plt.plot(dfor['Temperature'], label='Existing Data')\n",
    "plt.plot(forcast_2025_model2_sub['Temperature'], label='Forecasted Data', alpha=0.5)\n",
    "plt.legend(loc='best')\n",
    "plt.show()"
   ]
  },
  {
   "cell_type": "code",
   "execution_count": null,
   "id": "0e15c881",
   "metadata": {},
   "outputs": [],
   "source": [
    "# The important metrics here is the MAE if its under 3 deggres it is good\n",
    "# Note each points will have different MAE\n",
    "# If any point has MAE > 3 then just chnage the lags form 1 month and 1 year to 1 week and 1 month or 1 day and 1 hour and so on\n",
    "# Also chnage the lags in sliding window\n",
    "# Do your experimentations and find the best combination of lags\n",
    "\n",
    "print(mean_absolute_error(dfor[col_name], forcast_2025_model2_sub[col_name]))\n",
    "print(r2_score(dfor[col_name], forcast_2025_model2_sub[col_name]))"
   ]
  },
  {
   "cell_type": "code",
   "execution_count": null,
   "id": "8eebae1d",
   "metadata": {},
   "outputs": [],
   "source": [
    "future.loc['2025-04-08 12:00:00']"
   ]
  },
  {
   "cell_type": "code",
   "execution_count": null,
   "id": "a37f9911",
   "metadata": {},
   "outputs": [],
   "source": [
    "Temperature = future[['Temperature']].copy()\n",
    "Temperature"
   ]
  },
  {
   "cell_type": "code",
   "execution_count": null,
   "id": "72940b19",
   "metadata": {},
   "outputs": [],
   "source": [
    "Temperature[\"t_min\"] = Temperature[\"Temperature\"].rolling(24).min()\n",
    "Temperature[\"t_max\"] = Temperature[\"Temperature\"].rolling(24).max()\n",
    "Temperature[\"t_mean\"] = Temperature[\"Temperature\"].rolling(24).mean()\n",
    "Temperature['std'] = Temperature[\"Temperature\"].rolling(24).std()\n",
    "Temperature[\"ub\"] = Temperature[\"t_mean\"] + (Temperature[\"std\"]*1.5)\n",
    "Temperature[\"lb\"] = Temperature[\"t_mean\"] - (Temperature[\"std\"]*1.5)\n",
    "Temperature = Temperature.dropna()"
   ]
  },
  {
   "cell_type": "code",
   "execution_count": null,
   "id": "b16f3d25",
   "metadata": {},
   "outputs": [],
   "source": [
    "Temperature"
   ]
  },
  {
   "cell_type": "code",
   "execution_count": null,
   "id": "91c82056",
   "metadata": {},
   "outputs": [],
   "source": [
    "Temperature = Temperature.asfreq('1d')\n",
    "Temperature"
   ]
  },
  {
   "cell_type": "code",
   "execution_count": null,
   "id": "1e3ad5b5",
   "metadata": {},
   "outputs": [],
   "source": [
    "fig, ax = plt.subplots(figsize=(10, 5))\n",
    "ax.plot(Temperature['t_mean'], label='Average Temp')\n",
    "ax.plot(Temperature['t_min'], label='Min Temp', alpha=1)\n",
    "ax.plot(Temperature['t_max'], label='Max Temp', alpha=1)\n",
    "#ax.fill_between(Temperature.index, 0, Temperature['t_min'], color = 'orange', alpha=0.5)\n",
    "#ax.fill_between(Temperature.index, Temperature['t_min'], Temperature['t_mean'], color = 'blue', alpha=0.6)\n",
    "#ax.fill_between(Temperature.index, Temperature['t_mean'], Temperature['t_max'], color = 'green', alpha=0.5)\n",
    "ax.set_title('Temperature for 2025', weight='bold')\n",
    "ax.legend(loc='best')\n",
    "fig.show()"
   ]
  },
  {
   "cell_type": "markdown",
   "id": "11d3fe93",
   "metadata": {},
   "source": [
    "## 💾 Save Forecast Output"
   ]
  },
  {
   "cell_type": "markdown",
   "id": "f5c572aa",
   "metadata": {},
   "source": [
    "Save the output if you want"
   ]
  }
 ],
 "metadata": {
  "kernelspec": {
   "display_name": "Prophet",
   "language": "python",
   "name": "python3"
  },
  "language_info": {
   "codemirror_mode": {
    "name": "ipython",
    "version": 3
   },
   "file_extension": ".py",
   "mimetype": "text/x-python",
   "name": "python",
   "nbconvert_exporter": "python",
   "pygments_lexer": "ipython3",
   "version": "3.8.20"
  }
 },
 "nbformat": 4,
 "nbformat_minor": 5
}
